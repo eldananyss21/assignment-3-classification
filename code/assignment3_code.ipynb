{
  "nbformat": 4,
  "nbformat_minor": 0,
  "metadata": {
    "colab": {
      "provenance": [],
      "authorship_tag": "ABX9TyNfvWeNAH5iGfof9rgqZmEA",
      "include_colab_link": true
    },
    "kernelspec": {
      "name": "python3",
      "display_name": "Python 3"
    },
    "language_info": {
      "name": "python"
    }
  },
  "cells": [
    {
      "cell_type": "markdown",
      "metadata": {
        "id": "view-in-github",
        "colab_type": "text"
      },
      "source": [
        "<a href=\"https://colab.research.google.com/github/eldananyss21/assignment-3-classification/blob/main/code/assignment3_code.ipynb\" target=\"_parent\"><img src=\"https://colab.research.google.com/assets/colab-badge.svg\" alt=\"Open In Colab\"/></a>"
      ]
    },
    {
      "cell_type": "markdown",
      "source": [
        "# Assignment 3: Text Classification"
      ],
      "metadata": {
        "id": "rzQ11OZn4ah-"
      }
    },
    {
      "cell_type": "code",
      "execution_count": null,
      "metadata": {
        "id": "GfgKUrumz1Fd"
      },
      "outputs": [],
      "source": [
        "import pandas as pd\n",
        "import numpy as np\n",
        "from sklearn.metrics import f1_score, classification_report\n",
        "from sklearn.preprocessing import LabelEncoder\n",
        "from transformers import AutoTokenizer, AutoModelForSequenceClassification, TrainingArguments, Trainer, EarlyStoppingCallback\n",
        "from datasets import Dataset\n",
        "import torch\n",
        "from sentence_transformers import SentenceTransformer\n",
        "from sklearn import svm\n",
        "\n",
        "print(\"Using GPU:\", torch.cuda.is_available())\n",
        "\n",
        "# IMPORT DATA\n",
        "train = pd.read_csv(\"./data/train.csv\")\n",
        "dev = pd.read_csv(\"./data/dev.csv\")\n",
        "test = pd.read_csv(\"./data/test.csv\")\n",
        "\n",
        "# ENCODE LABELS\n",
        "label_encoder = LabelEncoder()\n",
        "label_encoder.fit(train[\"label\"].tolist() + dev[\"label\"].tolist())\n",
        "label_names = label_encoder.classes_.tolist()\n",
        "label2id = {name: i for i, name in enumerate(label_names)}\n",
        "id2label = {i: name for i, name in enumerate(label_names)}\n",
        "\n",
        "# TOKENIZE + CREATE DATASETS FOR TRACK 2 & TRACK 3\n",
        "def tokenize_dataframes(model_name, train, dev, test, train_dev):\n",
        "    tokenizer = AutoTokenizer.from_pretrained(model_name)\n",
        "\n",
        "    def tokenize_fn(examples):\n",
        "        return tokenizer(examples[\"text\"], truncation=True, padding=\"max_length\", max_length=256)\n",
        "\n",
        "    train_ds = Dataset.from_pandas(train).map(tokenize_fn, batched=True).rename_column(\"label\", \"labels\")\n",
        "    dev_ds = Dataset.from_pandas(dev).map(tokenize_fn, batched=True).rename_column(\"label\", \"labels\")\n",
        "    test_ds = Dataset.from_pandas(test).map(tokenize_fn, batched=True)\n",
        "    train_dev_ds = Dataset.from_pandas(train_dev).map(tokenize_fn, batched=True).rename_column(\"label\", \"labels\")\n",
        "\n",
        "    return tokenizer, train_ds, dev_ds, test_ds, train_dev_ds"
      ]
    },
    {
      "cell_type": "code",
      "source": [],
      "metadata": {
        "id": "YT9V6JYF4jHP"
      },
      "execution_count": null,
      "outputs": []
    }
  ]
}