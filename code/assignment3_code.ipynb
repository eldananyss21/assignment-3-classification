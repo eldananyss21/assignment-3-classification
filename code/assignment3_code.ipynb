{
  "nbformat": 4,
  "nbformat_minor": 0,
  "metadata": {
    "colab": {
      "provenance": [],
      "authorship_tag": "ABX9TyOg4iKiwnp0V1flGB4POrSl",
      "include_colab_link": true
    },
    "kernelspec": {
      "name": "python3",
      "display_name": "Python 3"
    },
    "language_info": {
      "name": "python"
    }
  },
  "cells": [
    {
      "cell_type": "markdown",
      "metadata": {
        "id": "view-in-github",
        "colab_type": "text"
      },
      "source": [
        "<a href=\"https://colab.research.google.com/github/eldananyss21/assignment-3-classification/blob/main/code/assignment3_code.ipynb\" target=\"_parent\"><img src=\"https://colab.research.google.com/assets/colab-badge.svg\" alt=\"Open In Colab\"/></a>"
      ]
    },
    {
      "cell_type": "markdown",
      "source": [
        "# Assignment 3: Text Classification"
      ],
      "metadata": {
        "id": "o0OPpu0r1jcn"
      }
    },
    {
      "cell_type": "code",
      "source": [
        "import pandas as pd\n",
        "import numpy as np\n",
        "from sklearn.metrics import f1_score, classification_report\n",
        "from sklearn.preprocessing import LabelEncoder\n",
        "from transformers import AutoTokenizer, AutoModelForSequenceClassification, TrainingArguments, Trainer, EarlyStoppingCallback\n",
        "from datasets import Dataset\n",
        "import torch\n",
        "from sentence_transformers import SentenceTransformer\n",
        "from sklearn import svm\n",
        "\n",
        "print(\"Using GPU:\", torch.cuda.is_available())\n",
        "\n",
        "# IMPORT DATA\n",
        "train = pd.read_csv(\"./data/train.csv\")\n",
        "dev = pd.read_csv(\"./data/dev.csv\")\n",
        "test = pd.read_csv(\"./data/test.csv\")\n",
        "\n",
        "# ENCODE LABELS\n",
        "label_encoder = LabelEncoder()\n",
        "label_encoder.fit(train[\"label\"].tolist() + dev[\"label\"].tolist())\n",
        "label_names = label_encoder.classes_.tolist()\n",
        "label2id = {name: i for i, name in enumerate(label_names)}\n",
        "id2label = {i: name for i, name in enumerate(label_names)}\n",
        "\n",
        "# TOKENIZE + CREATE DATASETS FOR TRACK 2 & TRACK 3\n",
        "def tokenize_dataframes(model_name, train, dev, test, train_dev):\n",
        "    tokenizer = AutoTokenizer.from_pretrained(model_name)\n",
        "\n",
        "    def tokenize_fn(examples):\n",
        "        return tokenizer(examples[\"text\"], truncation=True, padding=\"max_length\", max_length=256)\n",
        "\n",
        "    train_ds = Dataset.from_pandas(train).map(tokenize_fn, batched=True).rename_column(\"label\", \"labels\")\n",
        "    dev_ds = Dataset.from_pandas(dev).map(tokenize_fn, batched=True).rename_column(\"label\", \"labels\")\n",
        "    test_ds = Dataset.from_pandas(test).map(tokenize_fn, batched=True)\n",
        "    train_dev_ds = Dataset.from_pandas(train_dev).map(tokenize_fn, batched=True).rename_column(\"label\", \"labels\")\n",
        "\n",
        "    return tokenizer, train_ds, dev_ds, test_ds, train_dev_ds"
      ],
      "metadata": {
        "id": "-MWOayID13Za"
      },
      "execution_count": null,
      "outputs": []
    },
    {
      "cell_type": "markdown",
      "source": [
        "## Track 1: Machine Learning Technique"
      ],
      "metadata": {
        "id": "W5UDK_IE1ob0"
      }
    },
    {
      "cell_type": "code",
      "execution_count": null,
      "metadata": {
        "id": "GfgKUrumz1Fd"
      },
      "outputs": [],
      "source": [
        "model = SentenceTransformer('all-MiniLM-L6-v2')\n",
        "\n",
        "# 1. TRAIN ON TRAIN SET → EVALUATE ON DEV SET\n",
        "X_train = model.encode(train['text'].tolist(), show_progress_bar=True)\n",
        "y_train = label_encoder.transform(train['label'])\n",
        "X_dev = model.encode(dev['text'].tolist(), show_progress_bar=True)\n",
        "y_dev = label_encoder.transform(dev['label'])\n",
        "\n",
        "clf = svm.SVC()\n",
        "clf.fit(X_train, y_train)\n",
        "dev_preds = clf.predict(X_dev)\n",
        "print(\"Track 1 Dev Macro F1:\", f1_score(y_dev, dev_preds, average=\"macro\"))"
      ]
    },
    {
      "cell_type": "code",
      "source": [
        "# 2. TRAIN ON TRAIN + DEV SETS → PREDICT ON TEST SET\n",
        "train_dev = pd.concat([train, dev])\n",
        "X = model.encode(train_dev['text'].tolist(), show_progress_bar=True)\n",
        "y = label_encoder.transform(train_dev['label'])\n",
        "X_test = model.encode(test['text'].tolist(), show_progress_bar=True)"
      ],
      "metadata": {
        "id": "QcLllYdd3KcX"
      },
      "execution_count": null,
      "outputs": []
    },
    {
      "cell_type": "code",
      "source": [
        "clf.fit(X, y)\n",
        "test_preds = clf.predict(X_test)\n",
        "test_labels = label_encoder.inverse_transform(test_preds)\n",
        "pd.DataFrame({\"id\": test[\"id\"], \"label\": test_labels}).to_csv(\"track_1_test.csv\", index=False)"
      ],
      "metadata": {
        "id": "nbe9LHRN3LvZ"
      },
      "execution_count": null,
      "outputs": []
    },
    {
      "cell_type": "markdown",
      "source": [
        "## Track 2: RoBERTa"
      ],
      "metadata": {
        "id": "LFD2Lk991-QX"
      }
    },
    {
      "cell_type": "code",
      "source": [
        "model_name = \"roberta-base\"\n",
        "tokenizer, train_ds, dev_ds, test_ds, train_dev_ds = tokenize_dataframes(model_name, train, dev, test, pd.concat([train, dev]))\n",
        "\n",
        "model = AutoModelForSequenceClassification.from_pretrained(model_name,\n",
        "                                                           num_labels=len(label2id),\n",
        "                                                           id2label=id2label,\n",
        "                                                           label2id=label2id)\n",
        "\n",
        "args = TrainingArguments(output_dir = \"./code/results_roberta\",\n",
        "                         evaluation_strategy=\"epoch\",\n",
        "                         save_strategy=\"epoch\",\n",
        "                         learning_rate=1e-5,\n",
        "                         per_device_train_batch_size=16,\n",
        "                         per_device_eval_batch_size=16,\n",
        "                         num_train_epochs=3,\n",
        "                         weight_decay=0.01,\n",
        "                         load_best_model_at_end=True,\n",
        "                         metric_for_best_model=\"macro_f1\",\n",
        "                         fp16=True,\n",
        "                         logging_steps=50,\n",
        "                         save_total_limit=1)\n",
        "\n",
        "def compute_metrics(eval_pred):\n",
        "    logits, labels = eval_pred\n",
        "    preds = np.argmax(logits, axis=-1)\n",
        "    return {\"macro_f1\": f1_score(labels, preds, average=\"macro\")}\n",
        "\n",
        "trainer = Trainer(model=model,\n",
        "                  args=args,\n",
        "                  train_dataset=train_ds,\n",
        "                  eval_dataset=dev_ds,\n",
        "                  tokenizer=tokenizer,\n",
        "                  compute_metrics=compute_metrics,\n",
        "                  callbacks=[EarlyStoppingCallback(early_stopping_patience=2)])"
      ],
      "metadata": {
        "id": "_A0PLH8a1ymD"
      },
      "execution_count": null,
      "outputs": []
    },
    {
      "cell_type": "code",
      "source": [
        "# 1. TRAIN ON TRAIN SET → EVALUATE ON DEV SET\n",
        "trainer.train()\n",
        "trainer.evaluate()"
      ],
      "metadata": {
        "id": "mL8E7DNh2t0y"
      },
      "execution_count": null,
      "outputs": []
    },
    {
      "cell_type": "code",
      "source": [
        "# 2. TRAIN ON TRAIN + DEV SETS → PREDICT ON TEST SET\n",
        "trainer.train_dataset = train_dev_ds\n",
        "trainer.eval_dataset = None\n",
        "trainer.train()"
      ],
      "metadata": {
        "id": "JxWUdHG32vh8"
      },
      "execution_count": null,
      "outputs": []
    },
    {
      "cell_type": "code",
      "source": [
        "roberta_preds = trainer.predict(test_ds).predictions.argmax(-1)\n",
        "labels = [id2label[i] for i in roberta_preds]\n",
        "pd.DataFrame({\"id\": test[\"id\"], \"label\": labels}).to_csv(\"track_2_test.csv\", index=False)"
      ],
      "metadata": {
        "id": "3HJy7CUy2wu7"
      },
      "execution_count": null,
      "outputs": []
    },
    {
      "cell_type": "markdown",
      "source": [
        "## Track 3: XLNet"
      ],
      "metadata": {
        "id": "Ugiwb6wZ2GE2"
      }
    },
    {
      "cell_type": "code",
      "source": [
        "model_name = \"xlnet-base-cased\"\n",
        "tokenizer, train_ds, dev_ds, test_ds, train_dev_ds = tokenize_dataframes(model_name, train, dev, test, pd.concat([train, dev]))\n",
        "\n",
        "model = AutoModelForSequenceClassification.from_pretrained(model_name,\n",
        "                                                           num_labels=len(label2id),\n",
        "                                                           id2label=id2label,\n",
        "                                                           label2id=label2id)\n",
        "\n",
        "args = TrainingArguments(output_dir=\"./code/results_xlnet\",\n",
        "                         eval_strategy=\"epoch\",\n",
        "                         save_strategy=\"epoch\",\n",
        "                         learning_rate=1e-5,\n",
        "                         per_device_train_batch_size=16,\n",
        "                         per_device_eval_batch_size=16,\n",
        "                         num_train_epochs=3,\n",
        "                         weight_decay=0.01,\n",
        "                         load_best_model_at_end=True,\n",
        "                         metric_for_best_model=\"macro_f1\",\n",
        "                         fp16=False,\n",
        "                         logging_steps=50,\n",
        "                         save_total_limit=1)\n",
        "\n",
        "trainer = Trainer(model=model,\n",
        "                  args=args,\n",
        "                  train_dataset=train_ds,\n",
        "                  eval_dataset=dev_ds,\n",
        "                  tokenizer=tokenizer,\n",
        "                  compute_metrics=compute_metrics,\n",
        "                  callbacks=[EarlyStoppingCallback(early_stopping_patience=2)])"
      ],
      "metadata": {
        "id": "PBpOcKKo2JH8"
      },
      "execution_count": null,
      "outputs": []
    },
    {
      "cell_type": "code",
      "source": [
        "# 1. TRAIN ON TRAIN SET → EVALUATE ON DEV SET\n",
        "trainer.train()\n",
        "trainer.evaluate()"
      ],
      "metadata": {
        "id": "q6LSPWQw2ovD"
      },
      "execution_count": null,
      "outputs": []
    },
    {
      "cell_type": "code",
      "source": [
        "# 2. TRAIN ON TRAIN + DEV SETS → PREDICT ON TEST SET\n",
        "trainer.train_dataset = train_dev_ds\n",
        "trainer.eval_dataset = None\n",
        "trainer.train()"
      ],
      "metadata": {
        "id": "ocSYdymH2qDh"
      },
      "execution_count": null,
      "outputs": []
    },
    {
      "cell_type": "code",
      "source": [
        "xlnet_preds = trainer.predict(test_ds).predictions.argmax(-1)\n",
        "xlnet_labels = [id2label[i] for i in xlnet_preds]\n",
        "pd.DataFrame({\"id\": test[\"id\"], \"label\": xlnet_labels}).to_csv(\"track_3_test.csv\", index=False)"
      ],
      "metadata": {
        "id": "p2LKOivG2rkL"
      },
      "execution_count": null,
      "outputs": []
    }
  ]
}